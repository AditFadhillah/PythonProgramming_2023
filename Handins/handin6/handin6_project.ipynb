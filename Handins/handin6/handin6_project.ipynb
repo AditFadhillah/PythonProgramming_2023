{
 "cells": [
  {
   "cell_type": "code",
   "execution_count": 98,
   "metadata": {},
   "outputs": [],
   "source": [
    "def extract_header(filename, comment_prefix, header_row_index, header_row_delimiter):\n",
    "    header_lines = []\n",
    "\n",
    "    # Open the file and extract comment lines\n",
    "    with open(filename, 'r') as file:\n",
    "        for line in file:\n",
    "            if line.startswith(comment_prefix):\n",
    "                header_lines.append(line)\n",
    "\n",
    "    # Get the desired header line based on header_row_index\n",
    "    if header_row_index < 0:\n",
    "        header_line = header_lines[header_row_index]\n",
    "    else:\n",
    "        header_line = header_lines[header_row_index]\n",
    "\n",
    "    # Remove the comment prefix and split the line\n",
    "    header_line = header_line.strip(comment_prefix).strip()\n",
    "    header_labels = header_line.split(header_row_delimiter)\n",
    "\n",
    "    # Remove whitespace from header labels\n",
    "    header_labels = [label.strip() for label in header_labels]\n",
    "\n",
    "    return header_labels\n"
   ]
  },
  {
   "cell_type": "code",
   "execution_count": 99,
   "metadata": {},
   "outputs": [
    {
     "name": "stdout",
     "output_type": "stream",
     "text": [
      "['Year', 'Annual Anomaly', 'Annual Unc.', 'Five-year Anomaly', 'Five-year Unc.', 'Annual Anomaly', 'Annual Unc.', 'Five-year Anomaly', 'Five-year Unc.']\n"
     ]
    }
   ],
   "source": [
    "header = extract_header('Land_and_Ocean_summary.txt', comment_prefix='%', header_row_index=-1, header_row_delimiter=',')\n",
    "\n",
    "# Make sure 'Year' is present in the header\n",
    "if 'Year' not in header:\n",
    "    header.insert(0, 'Year')\n",
    "\n",
    "print(header)"
   ]
  },
  {
   "cell_type": "code",
   "execution_count": 100,
   "metadata": {},
   "outputs": [],
   "source": [
    "import pandas as pd\n",
    "\n",
    "def read_anomaly_data_into_dataframe(filename, header, max_cols, comment_prefix):\n",
    "    # Read data from the file while skipping comment lines and using specified header\n",
    "    anomaly_df = pd.read_table(\n",
    "        filename,\n",
    "        header=None,  # We're providing the header separately\n",
    "        usecols=range(max_cols),  # Limit the number of columns to read\n",
    "        comment=comment_prefix,  # Ignore lines starting with comment_prefix\n",
    "        delimiter=r\"\\s+\",  # Use whitespace as the delimiter\n",
    "    )\n",
    "\n",
    "    # Set the header to the provided list of strings\n",
    "    anomaly_df.columns = header[:max_cols]\n",
    "\n",
    "    # Set the 'Year' column as the index\n",
    "    anomaly_df.set_index('Year', inplace=True)\n",
    "\n",
    "    return anomaly_df\n"
   ]
  },
  {
   "cell_type": "code",
   "execution_count": 101,
   "metadata": {},
   "outputs": [
    {
     "data": {
      "text/html": [
       "<div>\n",
       "<style scoped>\n",
       "    .dataframe tbody tr th:only-of-type {\n",
       "        vertical-align: middle;\n",
       "    }\n",
       "\n",
       "    .dataframe tbody tr th {\n",
       "        vertical-align: top;\n",
       "    }\n",
       "\n",
       "    .dataframe thead th {\n",
       "        text-align: right;\n",
       "    }\n",
       "</style>\n",
       "<table border=\"1\" class=\"dataframe\">\n",
       "  <thead>\n",
       "    <tr style=\"text-align: right;\">\n",
       "      <th></th>\n",
       "      <th>Annual Anomaly</th>\n",
       "      <th>Annual Unc.</th>\n",
       "      <th>Five-year Anomaly</th>\n",
       "      <th>Five-year Unc.</th>\n",
       "    </tr>\n",
       "    <tr>\n",
       "      <th>Year</th>\n",
       "      <th></th>\n",
       "      <th></th>\n",
       "      <th></th>\n",
       "      <th></th>\n",
       "    </tr>\n",
       "  </thead>\n",
       "  <tbody>\n",
       "    <tr>\n",
       "      <th>1850</th>\n",
       "      <td>-0.532</td>\n",
       "      <td>0.154</td>\n",
       "      <td>NaN</td>\n",
       "      <td>NaN</td>\n",
       "    </tr>\n",
       "    <tr>\n",
       "      <th>1851</th>\n",
       "      <td>-0.405</td>\n",
       "      <td>0.169</td>\n",
       "      <td>NaN</td>\n",
       "      <td>NaN</td>\n",
       "    </tr>\n",
       "    <tr>\n",
       "      <th>1852</th>\n",
       "      <td>-0.395</td>\n",
       "      <td>0.165</td>\n",
       "      <td>-0.423</td>\n",
       "      <td>0.121</td>\n",
       "    </tr>\n",
       "    <tr>\n",
       "      <th>1853</th>\n",
       "      <td>-0.418</td>\n",
       "      <td>0.158</td>\n",
       "      <td>-0.384</td>\n",
       "      <td>0.109</td>\n",
       "    </tr>\n",
       "    <tr>\n",
       "      <th>1854</th>\n",
       "      <td>-0.363</td>\n",
       "      <td>0.142</td>\n",
       "      <td>-0.400</td>\n",
       "      <td>0.090</td>\n",
       "    </tr>\n",
       "    <tr>\n",
       "      <th>...</th>\n",
       "      <td>...</td>\n",
       "      <td>...</td>\n",
       "      <td>...</td>\n",
       "      <td>...</td>\n",
       "    </tr>\n",
       "    <tr>\n",
       "      <th>2014</th>\n",
       "      <td>0.675</td>\n",
       "      <td>0.045</td>\n",
       "      <td>0.728</td>\n",
       "      <td>0.040</td>\n",
       "    </tr>\n",
       "    <tr>\n",
       "      <th>2015</th>\n",
       "      <td>0.814</td>\n",
       "      <td>0.043</td>\n",
       "      <td>0.777</td>\n",
       "      <td>0.041</td>\n",
       "    </tr>\n",
       "    <tr>\n",
       "      <th>2016</th>\n",
       "      <td>0.949</td>\n",
       "      <td>0.044</td>\n",
       "      <td>0.808</td>\n",
       "      <td>0.040</td>\n",
       "    </tr>\n",
       "    <tr>\n",
       "      <th>2017</th>\n",
       "      <td>0.834</td>\n",
       "      <td>0.045</td>\n",
       "      <td>NaN</td>\n",
       "      <td>NaN</td>\n",
       "    </tr>\n",
       "    <tr>\n",
       "      <th>2018</th>\n",
       "      <td>0.770</td>\n",
       "      <td>0.043</td>\n",
       "      <td>NaN</td>\n",
       "      <td>NaN</td>\n",
       "    </tr>\n",
       "  </tbody>\n",
       "</table>\n",
       "<p>169 rows × 4 columns</p>\n",
       "</div>"
      ],
      "text/plain": [
       "      Annual Anomaly  Annual Unc.  Five-year Anomaly  Five-year Unc.\n",
       "Year                                                                \n",
       "1850          -0.532        0.154                NaN             NaN\n",
       "1851          -0.405        0.169                NaN             NaN\n",
       "1852          -0.395        0.165             -0.423           0.121\n",
       "1853          -0.418        0.158             -0.384           0.109\n",
       "1854          -0.363        0.142             -0.400           0.090\n",
       "...              ...          ...                ...             ...\n",
       "2014           0.675        0.045              0.728           0.040\n",
       "2015           0.814        0.043              0.777           0.041\n",
       "2016           0.949        0.044              0.808           0.040\n",
       "2017           0.834        0.045                NaN             NaN\n",
       "2018           0.770        0.043                NaN             NaN\n",
       "\n",
       "[169 rows x 4 columns]"
      ]
     },
     "execution_count": 101,
     "metadata": {},
     "output_type": "execute_result"
    }
   ],
   "source": [
    "anomaly_df = read_anomaly_data_into_dataframe('Land_and_Ocean_summary.txt', header, max_cols=5, comment_prefix='%')\n",
    "anomaly_df\n"
   ]
  },
  {
   "cell_type": "code",
   "execution_count": 102,
   "metadata": {},
   "outputs": [],
   "source": [
    "def anomaly_avg_per_decade(anomaly_df):\n",
    "    # Group rows by decade and calculate the mean anomaly for each group\n",
    "    anomalies_per_decade = anomaly_df.groupby(anomaly_df.index // 10 * 10)['Annual Anomaly'].mean()\n",
    "    \n",
    "    return anomalies_per_decade\n"
   ]
  },
  {
   "cell_type": "code",
   "execution_count": 103,
   "metadata": {},
   "outputs": [
    {
     "data": {
      "text/plain": [
       "Year\n",
       "1850   -0.441500\n",
       "1860   -0.406900\n",
       "1870   -0.297600\n",
       "1880   -0.403400\n",
       "1890   -0.391000\n",
       "1900   -0.395700\n",
       "1910   -0.402900\n",
       "1920   -0.250800\n",
       "1930   -0.128200\n",
       "1940    0.013200\n",
       "1950   -0.015800\n",
       "1960   -0.015100\n",
       "1970   -0.007300\n",
       "1980    0.169800\n",
       "1990    0.338600\n",
       "2000    0.551000\n",
       "2010    0.723222\n",
       "Name: Annual Anomaly, dtype: float64"
      ]
     },
     "execution_count": 103,
     "metadata": {},
     "output_type": "execute_result"
    }
   ],
   "source": [
    "anomalies_per_decade = anomaly_avg_per_decade(anomaly_df)\n",
    "anomalies_per_decade\n"
   ]
  },
  {
   "cell_type": "code",
   "execution_count": 104,
   "metadata": {},
   "outputs": [
    {
     "data": {
      "image/png": "[encoded data removed]",
      "text/plain": [
       "<Figure size 1200x600 with 1 Axes>"
      ]
     },
     "metadata": {},
     "output_type": "display_data"
    }
   ],
   "source": [
    "import matplotlib.pyplot as plt\n",
    "\n",
    "# Plot the anomalies_per_decade Series\n",
    "anomalies_per_decade.plot(kind='bar', figsize=(12, 6))\n",
    "plt.title('Average Anomaly per Decade')\n",
    "plt.xlabel('Decade')\n",
    "plt.ylabel('Average Anomaly')\n",
    "plt.xticks(rotation=45)\n",
    "plt.show()\n"
   ]
  }
 ],
 "metadata": {
  "kernelspec": {
   "display_name": "base",
   "language": "python",
   "name": "python3"
  },
  "language_info": {
   "codemirror_mode": {
    "name": "ipython",
    "version": 3
   },
   "file_extension": ".py",
   "mimetype": "text/x-python",
   "name": "python",
   "nbconvert_exporter": "python",
   "pygments_lexer": "ipython3",
   "version": "3.11.4"
  }
 },
 "nbformat": 4,
 "nbformat_minor": 2
}
