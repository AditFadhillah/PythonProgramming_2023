{
 "cells": [
  {
   "cell_type": "code",
   "execution_count": 1,
   "id": "61c9de12",
   "metadata": {},
   "outputs": [],
   "source": [
    "import pandas as pd"
   ]
  },
  {
   "cell_type": "code",
   "execution_count": 2,
   "id": "09e15ae8",
   "metadata": {},
   "outputs": [],
   "source": [
    "def extract_header(filename, comment_prefix, header_row_index, header_row_delimiter):\n",
    "    \"\"\"\n",
    "    Function to extract header from data file\n",
    "    \"\"\"\n",
    "    with open(filename) as f:\n",
    "        header_lines = []\n",
    "        for line in f:\n",
    "            if line[0] == comment_prefix:\n",
    "                header_lines.append(line[1:].strip())\n",
    "        headers = []\n",
    "        for header in header_lines[header_row_index].split(header_row_delimiter):\n",
    "            headers.append(header.strip())\n",
    "\n",
    "    return headers"
   ]
  },
  {
   "cell_type": "code",
   "execution_count": 3,
   "id": "2b61cfde",
   "metadata": {},
   "outputs": [
    {
     "data": {
      "text/plain": [
       "['Year',\n",
       " 'Annual Anomaly',\n",
       " 'Annual Unc.',\n",
       " 'Five-year Anomaly',\n",
       " 'Five-year Unc.',\n",
       " 'Annual Anomaly',\n",
       " 'Annual Unc.',\n",
       " 'Five-year Anomaly',\n",
       " 'Five-year Unc.']"
      ]
     },
     "execution_count": 3,
     "metadata": {},
     "output_type": "execute_result"
    }
   ],
   "source": [
    "header = extract_header('Land_and_Ocean_summary.txt', comment_prefix='%', \n",
    "                        header_row_index=-1, header_row_delimiter=',')\n",
    "header"
   ]
  },
  {
   "cell_type": "code",
   "execution_count": 4,
   "id": "42635166",
   "metadata": {},
   "outputs": [],
   "source": [
    "def read_anomaly_data_into_dataframe(filename, header, max_cols, comment_prefix):\n",
    "    \"\"\"Function reading temperature anomaly data into a dataframe\"\"\"\n",
    "    df = pd.read_table(filename, comment=comment_prefix, names=header[:max_cols], \n",
    "                       delimiter=r\"\\s+\", index_col=0, usecols=range(max_cols))\n",
    "    return df"
   ]
  },
  {
   "cell_type": "code",
   "execution_count": 5,
   "id": "fdada090",
   "metadata": {},
   "outputs": [
    {
     "data": {
      "text/html": [
       "<div>\n",
       "<style scoped>\n",
       "    .dataframe tbody tr th:only-of-type {\n",
       "        vertical-align: middle;\n",
       "    }\n",
       "\n",
       "    .dataframe tbody tr th {\n",
       "        vertical-align: top;\n",
       "    }\n",
       "\n",
       "    .dataframe thead th {\n",
       "        text-align: right;\n",
       "    }\n",
       "</style>\n",
       "<table border=\"1\" class=\"dataframe\">\n",
       "  <thead>\n",
       "    <tr style=\"text-align: right;\">\n",
       "      <th></th>\n",
       "      <th>Annual Anomaly</th>\n",
       "      <th>Annual Unc.</th>\n",
       "      <th>Five-year Anomaly</th>\n",
       "      <th>Five-year Unc.</th>\n",
       "    </tr>\n",
       "    <tr>\n",
       "      <th>Year</th>\n",
       "      <th></th>\n",
       "      <th></th>\n",
       "      <th></th>\n",
       "      <th></th>\n",
       "    </tr>\n",
       "  </thead>\n",
       "  <tbody>\n",
       "    <tr>\n",
       "      <th>1850</th>\n",
       "      <td>-0.532</td>\n",
       "      <td>0.154</td>\n",
       "      <td>NaN</td>\n",
       "      <td>NaN</td>\n",
       "    </tr>\n",
       "    <tr>\n",
       "      <th>1851</th>\n",
       "      <td>-0.405</td>\n",
       "      <td>0.169</td>\n",
       "      <td>NaN</td>\n",
       "      <td>NaN</td>\n",
       "    </tr>\n",
       "    <tr>\n",
       "      <th>1852</th>\n",
       "      <td>-0.395</td>\n",
       "      <td>0.165</td>\n",
       "      <td>-0.423</td>\n",
       "      <td>0.121</td>\n",
       "    </tr>\n",
       "    <tr>\n",
       "      <th>1853</th>\n",
       "      <td>-0.418</td>\n",
       "      <td>0.158</td>\n",
       "      <td>-0.384</td>\n",
       "      <td>0.109</td>\n",
       "    </tr>\n",
       "    <tr>\n",
       "      <th>1854</th>\n",
       "      <td>-0.363</td>\n",
       "      <td>0.142</td>\n",
       "      <td>-0.400</td>\n",
       "      <td>0.090</td>\n",
       "    </tr>\n",
       "    <tr>\n",
       "      <th>...</th>\n",
       "      <td>...</td>\n",
       "      <td>...</td>\n",
       "      <td>...</td>\n",
       "      <td>...</td>\n",
       "    </tr>\n",
       "    <tr>\n",
       "      <th>2014</th>\n",
       "      <td>0.675</td>\n",
       "      <td>0.045</td>\n",
       "      <td>0.728</td>\n",
       "      <td>0.040</td>\n",
       "    </tr>\n",
       "    <tr>\n",
       "      <th>2015</th>\n",
       "      <td>0.814</td>\n",
       "      <td>0.043</td>\n",
       "      <td>0.777</td>\n",
       "      <td>0.041</td>\n",
       "    </tr>\n",
       "    <tr>\n",
       "      <th>2016</th>\n",
       "      <td>0.949</td>\n",
       "      <td>0.044</td>\n",
       "      <td>0.808</td>\n",
       "      <td>0.040</td>\n",
       "    </tr>\n",
       "    <tr>\n",
       "      <th>2017</th>\n",
       "      <td>0.834</td>\n",
       "      <td>0.045</td>\n",
       "      <td>NaN</td>\n",
       "      <td>NaN</td>\n",
       "    </tr>\n",
       "    <tr>\n",
       "      <th>2018</th>\n",
       "      <td>0.770</td>\n",
       "      <td>0.043</td>\n",
       "      <td>NaN</td>\n",
       "      <td>NaN</td>\n",
       "    </tr>\n",
       "  </tbody>\n",
       "</table>\n",
       "<p>169 rows × 4 columns</p>\n",
       "</div>"
      ],
      "text/plain": [
       "      Annual Anomaly  Annual Unc.  Five-year Anomaly  Five-year Unc.\n",
       "Year                                                                \n",
       "1850          -0.532        0.154                NaN             NaN\n",
       "1851          -0.405        0.169                NaN             NaN\n",
       "1852          -0.395        0.165             -0.423           0.121\n",
       "1853          -0.418        0.158             -0.384           0.109\n",
       "1854          -0.363        0.142             -0.400           0.090\n",
       "...              ...          ...                ...             ...\n",
       "2014           0.675        0.045              0.728           0.040\n",
       "2015           0.814        0.043              0.777           0.041\n",
       "2016           0.949        0.044              0.808           0.040\n",
       "2017           0.834        0.045                NaN             NaN\n",
       "2018           0.770        0.043                NaN             NaN\n",
       "\n",
       "[169 rows x 4 columns]"
      ]
     },
     "execution_count": 5,
     "metadata": {},
     "output_type": "execute_result"
    }
   ],
   "source": [
    "anomaly_data = read_anomaly_data_into_dataframe('Land_and_Ocean_summary.txt', header, \n",
    "                                                max_cols=5, comment_prefix='%')\n",
    "anomaly_data"
   ]
  },
  {
   "cell_type": "code",
   "execution_count": 6,
   "id": "87807c21",
   "metadata": {},
   "outputs": [],
   "source": [
    "def anomaly_avg_per_decade(anomaly_df):\n",
    "    \"\"\"\n",
    "    Function that calculates average per decade\n",
    "    \"\"\"\n",
    "    anomaly_avg = anomaly_df['Annual Anomaly'].groupby(anomaly_df.index // 10 * 10).mean()\n",
    "    return anomaly_avg"
   ]
  },
  {
   "cell_type": "code",
   "execution_count": 7,
   "id": "07249e66",
   "metadata": {},
   "outputs": [
    {
     "data": {
      "text/plain": [
       "Year\n",
       "1850   -0.441500\n",
       "1860   -0.406900\n",
       "1870   -0.297600\n",
       "1880   -0.403400\n",
       "1890   -0.391000\n",
       "1900   -0.395700\n",
       "1910   -0.402900\n",
       "1920   -0.250800\n",
       "1930   -0.128200\n",
       "1940    0.013200\n",
       "1950   -0.015800\n",
       "1960   -0.015100\n",
       "1970   -0.007300\n",
       "1980    0.169800\n",
       "1990    0.338600\n",
       "2000    0.551000\n",
       "2010    0.723222\n",
       "Name: Annual Anomaly, dtype: float64"
      ]
     },
     "execution_count": 7,
     "metadata": {},
     "output_type": "execute_result"
    }
   ],
   "source": [
    "anomalies_per_decade = anomaly_avg_per_decade(anomaly_data)\n",
    "anomalies_per_decade"
   ]
  },
  {
   "cell_type": "code",
   "execution_count": 8,
   "id": "a0d83e2e",
   "metadata": {},
   "outputs": [
    {
     "data": {
      "text/plain": [
       "<Axes: xlabel='Year', ylabel='Anomalies'>"
      ]
     },
     "execution_count": 8,
     "metadata": {},
     "output_type": "execute_result"
    },
    {
     "data": {
      "image/png": "[encoded data removed]",
      "text/plain": [
       "<Figure size 640x480 with 1 Axes>"
      ]
     },
     "metadata": {},
     "output_type": "display_data"
    }
   ],
   "source": [
    "import matplotlib.pyplot as plt\n",
    "anomalies_per_decade.plot(ylabel='Anomalies')"
   ]
  },
  {
   "cell_type": "code",
   "execution_count": null,
   "id": "4889541c",
   "metadata": {},
   "outputs": [],
   "source": []
  }
 ],
 "metadata": {
  "kernelspec": {
   "display_name": "Python 3 (ipykernel)",
   "language": "python",
   "name": "python3"
  },
  "language_info": {
   "codemirror_mode": {
    "name": "ipython",
    "version": 3
   },
   "file_extension": ".py",
   "mimetype": "text/x-python",
   "name": "python",
   "nbconvert_exporter": "python",
   "pygments_lexer": "ipython3",
   "version": "3.11.5"
  }
 },
 "nbformat": 4,
 "nbformat_minor": 5
}
